{
 "cells": [
  {
   "cell_type": "markdown",
   "metadata": {},
   "source": [
    "#run pip install datasets in console first!\n",
    "\n",
    "<h1> Load AG News dataset </h1>\n",
    "\n"
   ]
  },
  {
   "cell_type": "code",
   "execution_count": null,
   "metadata": {},
   "outputs": [],
   "source": []
  },
  {
   "cell_type": "code",
   "execution_count": 9,
   "metadata": {},
   "outputs": [
    {
     "name": "stderr",
     "output_type": "stream",
     "text": [
      "Using custom data configuration default\n",
      "Reusing dataset ag_news (/home/jovyan/.cache/huggingface/datasets/ag_news/default/0.0.0/bc2bcb40336ace1a0374767fc29bb0296cdaf8a6da7298436239c54d79180548)\n"
     ]
    },
    {
     "data": {
      "application/vnd.jupyter.widget-view+json": {
       "model_id": "d432f4cb69bf4a29aed165689df824a2",
       "version_major": 2,
       "version_minor": 0
      },
      "text/plain": [
       "  0%|          | 0/2 [00:00<?, ?it/s]"
      ]
     },
     "metadata": {},
     "output_type": "display_data"
    }
   ],
   "source": [
    "import pandas as pd\n",
    "from datasets import load_dataset\n",
    "\n",
    "# Load AG News dataset\n",
    "dataset = load_dataset(\"ag_news\")\n",
    "df_train = pd.DataFrame(dataset[\"train\"])\n",
    "df_test = pd.DataFrame(dataset[\"test\"])"
   ]
  },
  {
   "cell_type": "code",
   "execution_count": null,
   "metadata": {},
   "outputs": [],
   "source": []
  },
  {
   "cell_type": "code",
   "execution_count": 11,
   "metadata": {},
   "outputs": [
    {
     "name": "stdout",
     "output_type": "stream",
     "text": [
      "                                                text  label  text_length\n",
      "0  Wall St. Bears Claw Back Into the Black (Reute...      2          144\n",
      "1  Carlyle Looks Toward Commercial Aerospace (Reu...      2          266\n",
      "2  Oil and Economy Cloud Stocks' Outlook (Reuters...      2          232\n",
      "3  Iraq Halts Oil Exports from Main Southern Pipe...      2          256\n",
      "4  Oil prices soar to all-time record, posing new...      2          234\n"
     ]
    }
   ],
   "source": [
    "# Show sample data\n",
    "print(df_train.head())"
   ]
  },
  {
   "cell_type": "code",
   "execution_count": null,
   "metadata": {},
   "outputs": [],
   "source": []
  },
  {
   "cell_type": "code",
   "execution_count": 12,
   "metadata": {},
   "outputs": [
    {
     "name": "stdout",
     "output_type": "stream",
     "text": [
      "count    120000.000000\n",
      "mean        236.477525\n",
      "std          66.509741\n",
      "min         100.000000\n",
      "25%         196.000000\n",
      "50%         232.000000\n",
      "75%         266.000000\n",
      "max        1012.000000\n",
      "Name: text_length, dtype: float64\n"
     ]
    }
   ],
   "source": [
    "# Basic text statistics\n",
    "df_train[\"text_length\"] = df_train[\"text\"].apply(len)\n",
    "print(df_train[\"text_length\"].describe())"
   ]
  },
  {
   "cell_type": "code",
   "execution_count": null,
   "metadata": {},
   "outputs": [],
   "source": []
  },
  {
   "cell_type": "code",
   "execution_count": null,
   "metadata": {},
   "outputs": [],
   "source": []
  },
  {
   "cell_type": "code",
   "execution_count": null,
   "metadata": {},
   "outputs": [],
   "source": []
  },
  {
   "cell_type": "code",
   "execution_count": 8,
   "metadata": {},
   "outputs": [
    {
     "data": {
      "image/png": "[encoded data removed]",
      "text/plain": [
       "<Figure size 432x288 with 1 Axes>"
      ]
     },
     "metadata": {
      "needs_background": "light"
     },
     "output_type": "display_data"
    }
   ],
   "source": [
    "import matplotlib.pyplot as plt\n",
    "\n",
    "# Get class distribution\n",
    "class_counts = df_train[\"label\"].value_counts()\n",
    "\n",
    "# Create bar plot\n",
    "ax = class_counts.plot(kind=\"bar\", color=[\"blue\", \"green\", \"red\", \"purple\"])\n",
    "\n",
    "# Fix xtick labels manually\n",
    "ax.set_xticks(range(len(class_counts)))  # Set positions\n",
    "ax.set_xticklabels([\"World\", \"Sports\", \"Business\", \"Sci/Tech\"], rotation=0)  # Set labels\n",
    "\n",
    "# Customize labels\n",
    "plt.xlabel(\"Class Label\")\n",
    "plt.ylabel(\"Count\")\n",
    "plt.title(\"Class Distribution of AG News Dataset\")\n",
    "plt.grid(axis=\"y\", linestyle=\"--\", alpha=0.7)\n",
    "\n",
    "# Show plot\n",
    "plt.show()"
   ]
  },
  {
   "cell_type": "markdown",
   "metadata": {},
   "source": [
    "\n",
    "<h1>Train Model </h1>"
   ]
  },
  {
   "cell_type": "code",
   "execution_count": 16,
   "metadata": {},
   "outputs": [],
   "source": [
    "from sklearn.feature_extraction.text import TfidfVectorizer\n",
    "from sklearn.linear_model import LogisticRegression\n",
    "from sklearn.pipeline import make_pipeline\n",
    "from sklearn.model_selection import train_test_split"
   ]
  },
  {
   "cell_type": "code",
   "execution_count": null,
   "metadata": {},
   "outputs": [],
   "source": []
  },
  {
   "cell_type": "code",
   "execution_count": 21,
   "metadata": {},
   "outputs": [
    {
     "name": "stdout",
     "output_type": "stream",
     "text": [
      "dataset prepared\n"
     ]
    }
   ],
   "source": [
    "# Prepare dataset\n",
    "X_train, X_test, y_train, y_test = train_test_split(df_train[\"text\"], df_train[\"label\"], test_size=0.2, random_state=42)\n",
    "print(\"dataset prepared\")"
   ]
  },
  {
   "cell_type": "code",
   "execution_count": null,
   "metadata": {},
   "outputs": [],
   "source": []
  },
  {
   "cell_type": "code",
   "execution_count": 22,
   "metadata": {},
   "outputs": [
    {
     "name": "stdout",
     "output_type": "stream",
     "text": [
      "training completed\n"
     ]
    }
   ],
   "source": [
    "# Train TF-IDF + Logistic Regression\n",
    "pipeline = make_pipeline(TfidfVectorizer(max_features=10000), LogisticRegression(max_iter=1000))\n",
    "pipeline.fit(X_train, y_train)\n",
    "print(\"training completed\")"
   ]
  },
  {
   "cell_type": "code",
   "execution_count": 19,
   "metadata": {},
   "outputs": [
    {
     "name": "stdout",
     "output_type": "stream",
     "text": [
      "Accuracy: 0.91325\n"
     ]
    }
   ],
   "source": [
    "# Evaluate performance\n",
    "print(\"Accuracy:\", pipeline.score(X_test, y_test))      "
   ]
  },
  {
   "cell_type": "markdown",
   "metadata": {},
   "source": [
    "<h1> Test at inference</h1>\n",
    "You can change sentence to test it!"
   ]
  },
  {
   "cell_type": "code",
   "execution_count": null,
   "metadata": {},
   "outputs": [],
   "source": []
  },
  {
   "cell_type": "code",
   "execution_count": 25,
   "metadata": {},
   "outputs": [],
   "source": [
    "# Define a new test sentence\n",
    "new_text = [\"The stock market is experiencing a significant downturn due to global events.\"]"
   ]
  },
  {
   "cell_type": "code",
   "execution_count": 27,
   "metadata": {},
   "outputs": [
    {
     "name": "stdout",
     "output_type": "stream",
     "text": [
      "Predicted Category: Business\n"
     ]
    }
   ],
   "source": [
    "# Define label mapping\n",
    "label_map = {0: \"World News\", 1: \"Sports\", 2: \"Business\", 3: \"Science & Tech\"}\n",
    "\n",
    "# Print human-readable prediction\n",
    "print(f\"Predicted Category: {label_map[predicted_label]}\")"
   ]
  },
  {
   "cell_type": "code",
   "execution_count": null,
   "metadata": {},
   "outputs": [],
   "source": []
  },
  {
   "cell_type": "code",
   "execution_count": null,
   "metadata": {},
   "outputs": [],
   "source": []
  }
 ],
 "metadata": {
  "kernelspec": {
   "display_name": "Python 3",
   "language": "python",
   "name": "python3"
  },
  "language_info": {
   "codemirror_mode": {
    "name": "ipython",
    "version": 3
   },
   "file_extension": ".py",
   "mimetype": "text/x-python",
   "name": "python",
   "nbconvert_exporter": "python",
   "pygments_lexer": "ipython3",
   "version": "3.6.7"
  }
 },
 "nbformat": 4,
 "nbformat_minor": 2
}
